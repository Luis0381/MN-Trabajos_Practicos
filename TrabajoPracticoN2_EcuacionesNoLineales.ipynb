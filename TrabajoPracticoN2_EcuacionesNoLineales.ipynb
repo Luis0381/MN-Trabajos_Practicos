{
  "nbformat": 4,
  "nbformat_minor": 0,
  "metadata": {
    "colab": {
      "provenance": [],
      "collapsed_sections": []
    },
    "kernelspec": {
      "name": "python3",
      "display_name": "Python 3"
    },
    "language_info": {
      "name": "python"
    }
  },
  "cells": [
    {
      "cell_type": "code",
      "execution_count": 42,
      "metadata": {
        "id": "qUoeLBBxsemL"
      },
      "outputs": [],
      "source": [
        "import numpy as np\n",
        "\n",
        "#Biseccion\n",
        "def biseccion(a,b,func,error,maxIter):\n",
        "    iter=1\n",
        "    p=(a+b)/2\n",
        "    while(iter<=maxIter and abs(func(p))>error) :\n",
        "        if((func(p)*func(a))>0):\n",
        "            a=p\n",
        "        else:\n",
        "            b=p\n",
        "        print(\"Iteracion Nº: \"+ str(iter) + \" | Valor raiz: \" + str(p) + \" | Error: \" + str(abs(func(p))))\n",
        "        p=(a+b)/2\n",
        "        iter=iter+1\n",
        "    if(iter>maxIter) :\n",
        "        print(\"Iteracion Nº: \"+ str(iter) + \" | Valor raiz: \" + str(p) + \" | Error: \" + str(abs(func(p))))\n",
        "        print(\"RESULTADO\")\n",
        "        print(\"con: \"+str(maxIter) + \" Iteraciones no converge\")    \n",
        "    else :\n",
        "        print(\"RESULTADO\")\n",
        "        print(\"Iteracion Nº: \"+ str(iter) + \" | Valor raiz: \" + str(p) + \" | Error: \" + str(abs(func(p))))\n",
        "\n",
        "\n",
        "\n",
        "#Regula Falsi\n",
        "def regulaFalsi(a,b,func,error,maxIter):\n",
        "    iter=1\n",
        "    p=b-((func(b)*(b-a))/(func(b)-func(a)))\n",
        "    while(iter<=maxIter and abs(func(p))>error) :\n",
        "        \n",
        "        if((func(p)*func(a))>0):\n",
        "            a=p\n",
        "        else :\n",
        "            b=p\n",
        "        print(\"Iteracion Nº: \"+ str(iter) + \" | Valor raiz: \" + str(p) + \" | Error: \" + str(abs(func(p))))\n",
        "        p=b-((func(b)*(b-a))/(func(b)-func(a)))\n",
        "        iter=iter+1\n",
        "    if(iter>maxIter) :\n",
        "        print(\"Iteracion Nº: \"+ str(iter) + \" | Valor raiz: \" + str(p) + \" | Error: \" + str(abs(func(p))))\n",
        "        print(\"RESULTADO\")\n",
        "        print(\"con: \"+str(maxIter) + \" Iteraciones no converge\")    \n",
        "    else :\n",
        "        print(\"RESULTADO\")\n",
        "        print(\"Iteracion Nº: \"+ str(iter) + \" | Valor raiz: \" + str(p) + \" | Error: \" + str(abs(func(p))))\n",
        "\n",
        "#Secante\n",
        "def secante(a,b,func,error,maxIter):\n",
        "    iter=1\n",
        "    p=b-((func(b)*(b-a))/(func(b)-func(a)))\n",
        "    while(iter<=maxIter and abs(a-b)>error) :\n",
        "        print(\"Iteracion Nº: \"+str(iter) + \" | Valor raiz: \" + str(p) + \" | Error: \" + str(abs(a-b)))\n",
        "        a=b\n",
        "        b=p\n",
        "        p=b-((func(b)*(b-a))/(func(b)-func(a)))\n",
        "        iter=iter+1\n",
        "    if(iter>maxIter) :\n",
        "        print(\"Iteracion Nº: \"+str(iter) + \" | Valor raiz: \" + str(p) + \" | Error: \" + str(abs(a-b)))\n",
        "        print(\"RESULTADO\")\n",
        "        print(\"con: \"+str(maxIter) + \" Iteraciones no converge\")    \n",
        "    else :\n",
        "        print(\"RESULTADO\")\n",
        "        print(\"Iteracion Nº: \"+str(iter) + \" | Valor raiz: \" + str(p) + \" | Error: \" + str(abs(a-b)))\n",
        "\n",
        "\n",
        "#Newton - Raphson\n",
        "def newton(x0,func,funcDerivada,error,maxIter):\n",
        "    iter=1\n",
        "    x1=x0-(func(x0)/funcDerivada(x0))\n",
        "    while(iter<=maxIter and abs(x0-x1)>error) :\n",
        "        print(\"Iteracion Nº: \"+str(iter) + \" | Valor raiz: \" + str(x1) + \" | Error: \" + str(abs(x0-x1)))\n",
        "        x0=x1\n",
        "        x1=x0-(func(x0)/funcDerivada(x0))\n",
        "        iter=iter+1\n",
        "    if(iter>maxIter) :\n",
        "        print(\"Iteracion Nº: \"+str(iter) + \" | Valor raiz: \" + str(x1) + \" | Error: \" + str(abs(x0-x1)))\n",
        "        print(\"RESULTADO\")\n",
        "        print(\"con: \"+str(maxIter) + \" Iteraciones no converge\")    \n",
        "    else :\n",
        "        print(\"RESULTADO\")\n",
        "        print(\"Iteracion Nº: \"+str(iter) + \" | Valor raiz: \" + str(x1) + \" | Error: \" + str(abs(x0-x1)))\n",
        "\n",
        "#PuntoFijo\n",
        "def puntoFijo(g,x0,error,maxIter):\n",
        "    iter=1 \n",
        "    x1=g(x0)\n",
        "    while(iter<=maxIter and abs(x1-x0)>error) :\n",
        "        print(\"Iteracion Nº: \"+str(iter) + \" | Valor raiz: \" + str(x1) + \" | Error: \" + str(abs(x0-x1)))\n",
        "        x0=x1\n",
        "        x1=g(x0)\n",
        "        iter=iter+1\n",
        "    if(iter>maxIter) :\n",
        "        print(\"Iteracion Nº: \"+str(iter) + \" | Valor raiz: \" + str(x1) + \" | Error: \" + str(abs(x0-x1)))\n",
        "        print(\"RESULTADO\")\n",
        "        print(\"con: \"+str(maxIter) + \" Iteraciones no converge\")    \n",
        "    else :\n",
        "        print(\"RESULTADO\")\n",
        "        print(\"Iteracion Nº: \"+str(iter) + \" | Valor raiz: \" + str(x1) + \" | Error: \" + str(abs(x0-x1)))\n",
        "\n",
        "#Aitken\n",
        "def Steffensen(g, max_it, x0, eps):\n",
        "    iter = 0\n",
        "    x1 = x0 + 2*eps\n",
        "    error = x1 - x0\n",
        "\n",
        "    while (iter <= max_it and abs(error) > eps):\n",
        "        x1 = g(x0)\n",
        "        x2= g(x1)\n",
        "        x= x0 - (x1-x0)**2/(x2-2*x1+x0)\n",
        "        iter += 1\n",
        "        error = x1 - x0\n",
        "        print(f'Iteracion: {iter} valor: {x2} -- Error = {abs(error)}')\n",
        "        x0 = x\n",
        "\n",
        "    if iter > max_it:\n",
        "        print(f'\\nNo converge en {max_it} iteraciones\\n')\n",
        "    else:\n",
        "        print(f'\\nRaiz = {x2}')\n",
        "        print(f'{iter} iteraciones necesarias para alcanzar una precisión de {eps}\\n')"
      ]
    },
    {
      "cell_type": "code",
      "source": [
        "# EJERCICIO 1\n",
        "\n",
        "import numpy as np\n",
        "import math as m\n",
        "import matplotlib.pyplot as plt\n",
        "\n",
        "#Funciones\n",
        "def funcionEjercicio1(x):\n",
        "    return 2*(x**3)-3*x-4\n",
        "\n",
        "# a) Grafica\n",
        "x = np.linspace(-2,2,50)\n",
        "y= 2*(x**3)-3*x-4\n",
        "\n",
        "plt.plot(x,y)\n",
        "\n",
        "plt.title(\"Grafica - Ejercicio 1\")\n",
        "plt.legend(('y'), loc='upper left')\n",
        "plt.axhline(0, color='black')\n",
        "plt.axvline(0, color='black')\n",
        "plt.xlabel('x', fontsize=10)\n",
        "plt.ylabel('y', fontsize=10)\n",
        "plt.show()\n",
        "\n",
        "# b) Biseccion\n",
        "print(\"METODO DE BISECCION\")\n",
        "biseccion(1,2,funcionEjercicio1,0.001,100)\n",
        "\n",
        "# c) Regula Falsi\n",
        "print(\"\\nMETODO DE REGULA FALSI\")\n",
        "regulaFalsi(1,2,funcionEjercicio1,0.001,100)\n",
        "\n",
        "# d) Implementacion\n"
      ],
      "metadata": {
        "colab": {
          "base_uri": "https://localhost:8080/",
          "height": 677
        },
        "id": "hrAO3oM7SMC7",
        "outputId": "499a9287-b201-45f2-8043-b1b5838f4676"
      },
      "execution_count": null,
      "outputs": [
        {
          "output_type": "display_data",
          "data": {
            "text/plain": [
              "<Figure size 432x288 with 1 Axes>"
            ],
            "image/png": "[encoded data removed]"
          },
          "metadata": {
            "needs_background": "light"
          }
        },
        {
          "output_type": "stream",
          "name": "stdout",
          "text": [
            "METODO DE BISECCION\n",
            "Iteracion Nº: 1 | Valor raiz: 1.5 | Error: 1.75\n",
            "Iteracion Nº: 2 | Valor raiz: 1.75 | Error: 1.46875\n",
            "Iteracion Nº: 3 | Valor raiz: 1.625 | Error: 0.29296875\n",
            "Iteracion Nº: 4 | Valor raiz: 1.6875 | Error: 0.54833984375\n",
            "Iteracion Nº: 5 | Valor raiz: 1.65625 | Error: 0.11798095703125\n",
            "Iteracion Nº: 6 | Valor raiz: 1.640625 | Error: 0.08989715576171875\n",
            "Iteracion Nº: 7 | Valor raiz: 1.6484375 | Error: 0.013438224792480469\n",
            "Iteracion Nº: 8 | Valor raiz: 1.64453125 | Error: 0.03838002681732178\n",
            "Iteracion Nº: 9 | Valor raiz: 1.646484375 | Error: 0.012508586049079895\n",
            "RESULTADO\n",
            "Iteracion Nº: 10 | Valor raiz: 1.6474609375 | Error: 0.000455392524600029\n",
            "\n",
            "METODO DE REGULA FALSI\n",
            "Iteracion Nº: 1 | Valor raiz: 1.4545454545454546 | Error: 2.208865514650638\n",
            "Iteracion Nº: 2 | Valor raiz: 1.601317957166392 | Error: 0.5916933695382953\n",
            "Iteracion Nº: 3 | Valor raiz: 1.637105046776592 | Error: 0.1360623193706374\n",
            "Iteracion Nº: 4 | Valor raiz: 1.6451519547859195 | Error: 0.030166225752498832\n",
            "Iteracion Nº: 5 | Valor raiz: 1.646927100916062 | Error: 0.006633684500372716\n",
            "Iteracion Nº: 6 | Valor raiz: 1.647317032172266 | Error: 0.001456151276523876\n",
            "RESULTADO\n",
            "Iteracion Nº: 7 | Valor raiz: 1.647402604696811 | Error: 0.00031951143710973184\n"
          ]
        }
      ]
    },
    {
      "cell_type": "code",
      "source": [
        "# EJERCICIO 2\n",
        "\n",
        "import numpy as np\n",
        "import math as m\n",
        "import matplotlib.pyplot as plt\n",
        "\n",
        "#Funciones\n",
        "def funcionEjercicio2(x):\n",
        "    return x**3-2*(x**2)+x-3\n",
        "\n",
        "def funcionDerivadaEjercicio2(x):\n",
        "    return 3*(x**2)-4*x+1\n",
        "\n",
        "# a) Grafica\n",
        "x = np.linspace(-3,3,50)\n",
        "y= x**3-2*(x**2)+x-3\n",
        "\n",
        "plt.plot(x,y)\n",
        "\n",
        "plt.title(\"Grafica - Ejercicio 2\")\n",
        "plt.legend(('y'), loc='upper left')\n",
        "plt.axhline(0, color='black')\n",
        "plt.axvline(0, color='black')\n",
        "plt.xlabel('x', fontsize=10)\n",
        "plt.ylabel('y', fontsize=10)\n",
        "plt.show()\n",
        "\n",
        "# b) Biseccion\n",
        "print(\"METODO DE NEWTON - RAPHSON\")\n",
        "newton(3,funcionEjercicio2,funcionDerivadaEjercicio2,0.001,100)\n",
        "\n",
        "# c) Regula Falsi\n",
        "print(\"\\nMETODO DE LA SECANTE\")\n",
        "secante(1,3,funcionEjercicio2,0.001,100)\n",
        "\n",
        "# d) Implementacion"
      ],
      "metadata": {
        "colab": {
          "base_uri": "https://localhost:8080/",
          "height": 590
        },
        "id": "yyc27KXrYnFM",
        "outputId": "410d0004-fa58-4ffe-fb79-eed9859aa99f"
      },
      "execution_count": null,
      "outputs": [
        {
          "output_type": "display_data",
          "data": {
            "text/plain": [
              "<Figure size 432x288 with 1 Axes>"
            ],
            "image/png": "[encoded data removed]"
          },
          "metadata": {
            "needs_background": "light"
          }
        },
        {
          "output_type": "stream",
          "name": "stdout",
          "text": [
            "METODO DE NEWTON - RAPHSON\n",
            "Iteracion Nº: 1 | Valor raiz: 2.4375 | Error: 0.5625\n",
            "Iteracion Nº: 2 | Valor raiz: 2.2130327163151096 | Error: 0.22446728368489044\n",
            "Iteracion Nº: 3 | Valor raiz: 2.175554938721488 | Error: 0.037477777593621475\n",
            "RESULTADO\n",
            "Iteracion Nº: 4 | Valor raiz: 2.174560100666446 | Error: 0.000994838055042191\n",
            "\n",
            "METODO DE LA SECANTE\n",
            "Iteracion Nº: 1 | Valor raiz: 1.5 | Error: 2\n",
            "Iteracion Nº: 2 | Valor raiz: 1.8387096774193548 | Error: 1.5\n",
            "Iteracion Nº: 3 | Valor raiz: 2.468099395567495 | Error: 0.33870967741935476\n",
            "Iteracion Nº: 4 | Valor raiz: 2.105494803812503 | Error: 0.62938971814814\n",
            "Iteracion Nº: 5 | Valor raiz: 2.161850100087209 | Error: 0.3626045917549918\n",
            "Iteracion Nº: 6 | Valor raiz: 2.175196099139465 | Error: 0.056355296274706035\n",
            "Iteracion Nº: 7 | Valor raiz: 2.1745537356596 | Error: 0.013345999052256197\n",
            "RESULTADO\n",
            "Iteracion Nº: 8 | Valor raiz: 2.1745594077745904 | Error: 0.0006423634798653488\n"
          ]
        }
      ]
    },
    {
      "cell_type": "code",
      "source": [
        "# EJERCICIO 4\n",
        "\n",
        "import numpy as np\n",
        "import math as m\n",
        "import matplotlib.pyplot as plt\n",
        "\n",
        "#Funciones\n",
        "def funcionEjercicio4(x):\n",
        "    return x**2-2*x-3\n",
        "\n",
        "# a) Grafica\n",
        "x = np.linspace(-4,4,50)\n",
        "y= x**2-2*x-3\n",
        "plt.plot(x,y)\n",
        "plt.title(\"Grafica - Ejercicio 4\")\n",
        "plt.legend(('y'), loc='upper left')\n",
        "plt.axhline(0, color='black')\n",
        "plt.axvline(0, color='black')\n",
        "plt.xlabel('x', fontsize=10)\n",
        "plt.ylabel('y', fontsize=10)\n",
        "plt.show()\n",
        "\n",
        "# b) Grafica\n",
        "x = np.linspace(-5,5,50)\n",
        "y= x**2-2*x-3\n",
        "g1=np.sqrt(2*x+3)\n",
        "g2=((x**2)-3)/(2)\n",
        "g3=(3)/(x-2)\n",
        "max = 100.\n",
        "min = -40.\n",
        "g3[g3>max] = np.inf\n",
        "g3[g3<min] = -np.inf\n",
        " \n",
        "plt.plot(x,y,x,g1,x,g2,x,g3,x,x)\n",
        "plt.title(\"Grafica - Ejercicio 4\")\n",
        "plt.legend(('y','g1','g2','g3','y=x'), loc='upper left')\n",
        "plt.axhline(0, color='black')\n",
        "plt.axvline(0, color='black')\n",
        "plt.xlabel('x', fontsize=10)\n",
        "plt.ylabel('y', fontsize=10)\n",
        "plt.show()"
      ],
      "metadata": {
        "colab": {
          "base_uri": "https://localhost:8080/",
          "height": 590
        },
        "id": "38ANJd7Xb7cr",
        "outputId": "828a1fac-74d1-42e2-df8c-05707ef555e7"
      },
      "execution_count": null,
      "outputs": [
        {
          "output_type": "display_data",
          "data": {
            "text/plain": [
              "<Figure size 432x288 with 1 Axes>"
            ],
            "image/png": "[encoded data removed]"
          },
          "metadata": {
            "needs_background": "light"
          }
        },
        {
          "output_type": "stream",
          "name": "stderr",
          "text": [
            "/usr/local/lib/python3.7/dist-packages/ipykernel_launcher.py:26: RuntimeWarning: invalid value encountered in sqrt\n"
          ]
        },
        {
          "output_type": "display_data",
          "data": {
            "text/plain": [
              "<Figure size 432x288 with 1 Axes>"
            ],
            "image/png": "[encoded data removed]"
          },
          "metadata": {
            "needs_background": "light"
          }
        }
      ]
    },
    {
      "cell_type": "code",
      "source": [
        "# EJERCICIO 4\n",
        "\n",
        "import numpy as np\n",
        "\n",
        "def g1(x):\n",
        "  return np.sqrt(2*x+3)\n",
        "\n",
        "def g2(x):\n",
        "  return ((x**2)-3)/2\n",
        "\n",
        "def g3(x):\n",
        "  return 3/(x-2)\n",
        "\n",
        "print(\"Calculamos para g3\")\n",
        "puntoFijo(g3,-4,0.001,100) \n",
        "print(\"\\n\")\n",
        "# puntoFijo(g3,3.5,0.001,100) DIVISION POR CERO \n",
        "puntoFijo(g3,0,0.001,100)\n",
        "print(\"\\n\")\n",
        "puntoFijo(g3,-0.99,0.001,100)\n",
        "print(\"\\n\")\n"
      ],
      "metadata": {
        "colab": {
          "base_uri": "https://localhost:8080/"
        },
        "id": "wPrF6vr7NeVQ",
        "outputId": "0f39bca1-761a-42f0-e7b1-c48fc306a468"
      },
      "execution_count": 55,
      "outputs": [
        {
          "output_type": "stream",
          "name": "stdout",
          "text": [
            "Calculamos para g3\n",
            "Iteracion Nº: 1 | Valor raiz: -0.5 | Error: 3.5\n",
            "Iteracion Nº: 2 | Valor raiz: -1.2 | Error: 0.7\n",
            "Iteracion Nº: 3 | Valor raiz: -0.9375 | Error: 0.26249999999999996\n",
            "Iteracion Nº: 4 | Valor raiz: -1.0212765957446808 | Error: 0.08377659574468077\n",
            "Iteracion Nº: 5 | Valor raiz: -0.9929577464788734 | Error: 0.02831884926580741\n",
            "Iteracion Nº: 6 | Valor raiz: -1.0023529411764704 | Error: 0.009395194697597087\n",
            "Iteracion Nº: 7 | Valor raiz: -0.999216300940439 | Error: 0.0031366402360314405\n",
            "Iteracion Nº: 8 | Valor raiz: -1.0002613012803763 | Error: 0.0010450003399372632\n",
            "RESULTADO\n",
            "Iteracion Nº: 9 | Valor raiz: -0.9999129071590316 | Error: 0.00034839412134468617\n",
            "\n",
            "\n",
            "Iteracion Nº: 1 | Valor raiz: -1.5 | Error: 1.5\n",
            "Iteracion Nº: 2 | Valor raiz: -0.8571428571428571 | Error: 0.6428571428571429\n",
            "Iteracion Nº: 3 | Valor raiz: -1.05 | Error: 0.19285714285714295\n",
            "Iteracion Nº: 4 | Valor raiz: -0.9836065573770493 | Error: 0.06639344262295077\n",
            "Iteracion Nº: 5 | Valor raiz: -1.0054945054945055 | Error: 0.021887948117456202\n",
            "Iteracion Nº: 6 | Valor raiz: -0.9981718464351006 | Error: 0.007322659059404879\n",
            "Iteracion Nº: 7 | Valor raiz: -1.0006097560975609 | Error: 0.002437909662460269\n",
            "RESULTADO\n",
            "Iteracion Nº: 8 | Valor raiz: -0.9997967892704736 | Error: 0.0008129668270873136\n",
            "\n",
            "\n",
            "Iteracion Nº: 1 | Valor raiz: -1.0033444816053512 | Error: 0.013344481605351177\n",
            "Iteracion Nº: 2 | Valor raiz: -0.9988864142538975 | Error: 0.0044580673514537095\n",
            "Iteracion Nº: 3 | Valor raiz: -1.000371333085778 | Error: 0.0014849188318805107\n",
            "RESULTADO\n",
            "Iteracion Nº: 4 | Valor raiz: -0.9998762376237623 | Error: 0.0004950954620156489\n",
            "\n",
            "\n"
          ]
        }
      ]
    },
    {
      "cell_type": "code",
      "source": [
        "# EJERCICIO 3\n",
        "\n",
        "import numpy as np\n",
        "import math as m\n",
        "import matplotlib.pyplot as plt\n",
        "\n",
        "#Funciones\n",
        "def funcionEjercicio3(x):\n",
        "    return x**2+x-1\n",
        "\n",
        "# a) Grafica\n",
        "x = np.linspace(-4,4,50)\n",
        "y= x**2+x-1\n",
        "\n",
        "plt.plot(x,y)\n",
        "\n",
        "plt.title(\"Grafica - Ejercicio 3\")\n",
        "plt.legend(('y'), loc='upper left')\n",
        "plt.axhline(0, color='black')\n",
        "plt.axvline(0, color='black')\n",
        "plt.xlabel('x', fontsize=10)\n",
        "plt.ylabel('y', fontsize=10)\n",
        "plt.show()"
      ],
      "metadata": {
        "colab": {
          "base_uri": "https://localhost:8080/",
          "height": 417
        },
        "id": "7KGGXk9CcaKu",
        "outputId": "f4492b31-b244-4b0b-d769-1dbda93678ea"
      },
      "execution_count": null,
      "outputs": [
        {
          "output_type": "stream",
          "name": "stdout",
          "text": [
            "Iteracion: 1 valor: 1.5 -- Error = 1.0\n",
            "Iteracion: 2 valor: 1.625 -- Error = 0.06666666666666643\n",
            "Iteracion: 3 valor: 1.6180555555555556 -- Error = 0.00020429009193057013\n",
            "\n",
            "Raiz = 1.6180555555555556\n",
            "3 iteraciones necesarias para alcanzar una precisión de 0.001\n",
            "\n"
          ]
        },
        {
          "output_type": "display_data",
          "data": {
            "text/plain": [
              "<Figure size 432x288 with 1 Axes>"
            ],
            "image/png": "[encoded data removed]"
          },
          "metadata": {
            "needs_background": "light"
          }
        }
      ]
    }
  ]
}