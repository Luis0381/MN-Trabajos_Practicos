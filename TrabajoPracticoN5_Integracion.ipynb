{
  "nbformat": 4,
  "nbformat_minor": 0,
  "metadata": {
    "colab": {
      "provenance": []
    },
    "kernelspec": {
      "name": "python3",
      "display_name": "Python 3"
    },
    "language_info": {
      "name": "python"
    }
  },
  "cells": [
    {
      "cell_type": "markdown",
      "source": [
        "\n",
        "# **REGLA DEL TRAPECIO COMPUESTA**"
      ],
      "metadata": {
        "id": "dV2bzKV9F-vi"
      }
    },
    {
      "cell_type": "code",
      "execution_count": 1,
      "metadata": {
        "id": "4yOU10I3QDyg"
      },
      "outputs": [],
      "source": [
        "import numpy as np\n",
        "\n",
        "def trapecio(x,y): ## Se ingresan 2 arrays con xi y f(xi)\n",
        "    n=len(x)-1 # Cantidad de intervalos\n",
        "    h=(x[n]-x[0])/n ## Calculamos el salto\n",
        "    sumaParcial=y[0]+y[n] ## Sumamos los extremos\n",
        "    cont=1\n",
        "    while(cont<n): ## Sumamos los puntos intermedios\n",
        "        sumaParcial=sumaParcial+2*y[cont]\n",
        "        cont=cont+1\n",
        "    sumaParcial=(h*sumaParcial)/2\n",
        "    \n",
        "    print(f\"Area trapecio: {sumaParcial}\")"
      ]
    },
    {
      "cell_type": "markdown",
      "source": [
        "# **REGLA DE SIMPSON COMPUESTA**"
      ],
      "metadata": {
        "id": "F9LxqC0VF9XX"
      }
    },
    {
      "cell_type": "code",
      "source": [
        "import numpy as np\n",
        "\n",
        "def simpson(x,y): ## Se ingresan 2 arrays con xi y f(xi)\n",
        "    n=len(x)-1  # Cantidad de intervalos\n",
        "    h=(x[n]-x[0])/n ## Calculamos el salto\n",
        "    sumaParcial=y[0]+y[n] ## Sumamos los extremos\n",
        "    cont=1\n",
        "    while(cont<n):\n",
        "        if(cont%2==0): ## Si es par multiplicamos por 2 y sumamos\n",
        "            sumaParcial=sumaParcial+2*y[cont]\n",
        "        else: ## Si es impar multiplicamos por 4 y sumamos\n",
        "            sumaParcial=sumaParcial+4*y[cont]\n",
        "        cont=cont+1\n",
        "    sumaParcial=(h*sumaParcial)/3\n",
        "    \n",
        "    print(f\"Area Simpson: {sumaParcial}\")   "
      ],
      "metadata": {
        "id": "VLrlqaMLGWUP"
      },
      "execution_count": 7,
      "outputs": []
    },
    {
      "cell_type": "markdown",
      "source": [
        "# **EXTRAPOLACION DE RICHARDSON**"
      ],
      "metadata": {
        "id": "q-5XCGDdF8XR"
      }
    },
    {
      "cell_type": "code",
      "source": [
        "import numpy as np\n",
        "\n",
        "def richardson(x,y):\n",
        "\n",
        "    ## En primer lugar, calculamos I(h2) con Trapecio Compuesto\n",
        "    n=len(x)-1\n",
        "    h=(x[n]-x[0])/n\n",
        "    sumaParcial2=y[0]+y[n]\n",
        "    cont=1\n",
        "    while(cont<n):\n",
        "        sumaParcial2=sumaParcial2+2*y[cont]\n",
        "        cont=cont+1\n",
        "    sumaParcial2=(h*sumaParcial2)/2\n",
        "    \n",
        "    ## Ahora calcularemos I(h1), con h1=h2*2\n",
        "    h=h*2\n",
        "    sumaParcial1=y[0]+y[n]\n",
        "    cont=2\n",
        "    while(cont<n):\n",
        "        sumaParcial1=sumaParcial1+2*y[cont]\n",
        "        cont=cont+2\n",
        "    sumaParcial1=(h*sumaParcial1)/2\n",
        "\n",
        "    ## Una vez tenemos I(h1) y I(h2), utilizamos la formula de extrapolacion de Richardson.\n",
        "    resultado=((4/3)*sumaParcial2)-((1/3)*sumaParcial1)\n",
        "\n",
        "    print(f\"Area richardson: {resultado}\") "
      ],
      "metadata": {
        "id": "nB-_anD8GXsM"
      },
      "execution_count": 8,
      "outputs": []
    },
    {
      "cell_type": "markdown",
      "source": [
        "# **Sección de pruebas**"
      ],
      "metadata": {
        "id": "7_2hu_f_G0wd"
      }
    },
    {
      "cell_type": "code",
      "source": [
        "## Ejercicio 1 - Trabajo Practico N5\n",
        "\n",
        "x = [0,100,200,300,400,500,600,700,800,900,1000]\n",
        "y = [125,125,120,112,90,90,95,88,75,35,0]\n",
        "\n",
        "simpson(x,y)\n",
        "\n",
        "## Ejercicio 2 - Trabajo Practico N5\n",
        "\n",
        "x = [0,0.5,1.0,1.5,2.0]\n",
        "y = [1.5,1.8,2.1,1.75,1.3]\n",
        "\n",
        "trapecio(x,y)\n",
        "\n",
        "## Ejercicio 3 - Trabajo Practico N5\n",
        "\n",
        "x = [0.0,0.1,0.2,0.3,0.4,0.5,0.6,0.7,0.8]\n",
        "y = [0.0,2.122,3.024,3.257,3.140,2.858,2.514,2.164,1.836]\n",
        "\n",
        "richardson(x,y)"
      ],
      "metadata": {
        "colab": {
          "base_uri": "https://localhost:8080/"
        },
        "id": "k5vzuH98G63Z",
        "outputId": "6f523b3e-bd03-4950-c4f0-185a8bc5cc55"
      },
      "execution_count": 10,
      "outputs": [
        {
          "output_type": "stream",
          "name": "stdout",
          "text": [
            "Area Simpson: 89500.0\n",
            "Area trapecio: 3.5250000000000004\n",
            "Area richardson: 2.026533333333334\n"
          ]
        }
      ]
    }
  ]
}