{
  "cells": [
    {
      "cell_type": "code",
      "execution_count": null,
      "metadata": {
        "colab": {
          "base_uri": "https://localhost:8080/"
        },
        "id": "MXgs8URrcnAn",
        "outputId": "8a33b15d-733e-4261-878c-63e4a781e016"
      },
      "outputs": [
        {
          "name": "stdout",
          "output_type": "stream",
          "text": [
            "APARTADO A\n",
            "La primera operacion da como resultado\n",
            "2.0\n",
            "La segunda operacion da como resultado\n",
            "2.0 \n",
            "\n",
            "APARTADO B\n",
            "La primera operacion da como resultado\n",
            "0.0\n",
            "La segunda operacion da como resultado\n",
            "1.0\n"
          ]
        }
      ],
      "source": [
        "# EJERCICIO 3\n",
        "\n",
        "# Apartado A\n",
        "\n",
        "x= 1.0\n",
        "y=- 5.0\n",
        "z= 6.0\n",
        "\n",
        "print(\"APARTADO A\")\n",
        "print(\"La primera operacion da como resultado\")\n",
        "print(x+(y+z))\n",
        "print(\"La segunda operacion da como resultado\")\n",
        "print((x+y)+z,\"\\n\")\n",
        "\n",
        "# Apartado B\n",
        "\n",
        "x= 1 * 10**20\n",
        "y= (-1) * 10**20\n",
        "z= 1.0\n",
        "\n",
        "print(\"APARTADO B\")\n",
        "print(\"La primera operacion da como resultado\")\n",
        "print(x+(y+z))\n",
        "print(\"La segunda operacion da como resultado\")\n",
        "print((x+y)+z)"
      ]
    },
    {
      "cell_type": "code",
      "execution_count": null,
      "metadata": {
        "colab": {
          "base_uri": "https://localhost:8080/"
        },
        "id": "zwb_kuEueLgb",
        "outputId": "e764c057-2d48-44e9-e7cb-7e76ecf8bc98"
      },
      "outputs": [
        {
          "name": "stdout",
          "output_type": "stream",
          "text": [
            "El resultado exacto es: 1.082323233711138\n",
            "El resultado calculado con precision simple es: 1.0823221\n",
            "y su error relativo: 1.0283846815329455e-06\n",
            "El resultado calculado con precision simple en sentido inverso es: 1.0823232\n",
            "y su error relativo: 3.71063161242491e-08\n"
          ]
        }
      ],
      "source": [
        "# EJERCICIO 6\n",
        "import numpy as np\n",
        "\n",
        "resultadoExacto = ((np.pi)**4)/90\n",
        "print(\"El resultado exacto es:\", resultadoExacto)\n",
        "\n",
        "resultadoAscendente = 0\n",
        "for i in range(1,10000):\n",
        "  resultadoAscendente=np.single(resultadoAscendente+np.single(1/np.single(i**4)))\n",
        "print(\"El resultado calculado con precision simple es:\", resultadoAscendente)\n",
        "errorRelativoAscendente = np.absolute(resultadoExacto-resultadoAscendente)/resultadoExacto\n",
        "print(\"y su error relativo:\", errorRelativoAscendente)\n",
        "\n",
        "resultadoDescendente = 0\n",
        "for i in range(10000,0,-1):\n",
        "  resultadoDescendente= np.single(resultadoDescendente+np.single(1/np.single(i**4)))\n",
        "print(\"El resultado calculado con precision simple en sentido inverso es:\", resultadoDescendente)\n",
        "errorRelativoDescendente = np.absolute(resultadoExacto-resultadoDescendente)/resultadoExacto\n",
        "print(\"y su error relativo:\", errorRelativoDescendente)"
      ]
    }
  ],
  "metadata": {
    "colab": {
      "collapsed_sections": [],
      "provenance": []
    },
    "kernelspec": {
      "display_name": "Python 3",
      "name": "python3"
    },
    "language_info": {
      "name": "python"
    }
  },
  "nbformat": 4,
  "nbformat_minor": 0
}
